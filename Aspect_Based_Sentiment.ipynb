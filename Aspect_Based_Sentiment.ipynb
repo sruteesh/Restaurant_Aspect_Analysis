{
 "cells": [
  {
   "cell_type": "code",
   "execution_count": 1,
   "metadata": {
    "collapsed": true
   },
   "outputs": [],
   "source": [
    "import json\n",
    "\n",
    "import pandas as pd\n",
    "# import simplejson\n",
    "\n",
    "from sentiment_neuron.encoder import Model\n",
    "# import aspects_api_v1.extract_aspects_v2 as aspects_model\n",
    "\n",
    "neuron_model = Model()\n",
    "\n",
    "def predict_sentiment(text):\n",
    "\n",
    "    text_features = neuron_model.transform(text)\n",
    "    prediced = {}\n",
    "    for no in range(len(text_features[0])):\n",
    "        for i,res in enumerate(text_features):\n",
    "            if no in prediced:\n",
    "                prediced[no].append(res[no])\n",
    "            else:\n",
    "                prediced[no] = []\n",
    "                prediced[no].append(res[no])\n",
    "    return round(float(prediced[2388][0]),6)\n",
    "\n",
    "\n",
    "def get_sentiment():\n",
    "    \n",
    "    global neuron_model\n",
    "    print ('Sentiment')\n",
    "    # print (request.form)\n",
    "\n",
    "    # text=request.json[\"text\"]\n",
    "    text = input(\"Enter review to find sentiment...\")\n",
    "    return predict_sentiment(text)"
   ]
  },
  {
   "cell_type": "code",
   "execution_count": null,
   "metadata": {
    "collapsed": true
   },
   "outputs": [],
   "source": [
    "for item in [\"never ever come here\",\"worst restuarant\",\"great staff\",\"awesome service\"]:\n",
    "    print (predict_sentiment([item]))"
   ]
  },
  {
   "cell_type": "code",
   "execution_count": 2,
   "metadata": {},
   "outputs": [
    {
     "name": "stderr",
     "output_type": "stream",
     "text": [
      "Using TensorFlow backend.\n"
     ]
    },
    {
     "name": "stdout",
     "output_type": "stream",
     "text": [
      "Loaded model from disk\n",
      "Loaded model from disk\n"
     ]
    }
   ],
   "source": [
    "import json\n",
    "\n",
    "from flask import request, url_for\n",
    "import flask\n",
    "from flask_api import FlaskAPI, status, exceptions\n",
    "from flask import Flask, jsonify\n",
    "from flask_cors import CORS\n",
    "\n",
    "import pandas as pd\n",
    "import simplejson\n",
    "\n",
    "# import numpy as np\n",
    "# from skimage import io\n",
    "# import argparse,os\n",
    "# import caffe\n",
    "# import sys\n",
    "# import init\n",
    "# import cv2,skimage\n",
    "# import time\n",
    "# from werkzeug import secure_filename\n",
    "#import this\n",
    "from crossdomain import crossdomain\n",
    "from sentiment_neuron.encoder import Model\n",
    "import aspects_api_v1.extract_aspects_v2 as aspects_model\n",
    "\n"
   ]
  },
  {
   "cell_type": "code",
   "execution_count": 4,
   "metadata": {
    "collapsed": true
   },
   "outputs": [],
   "source": [
    "neuron_model = Model()"
   ]
  },
  {
   "cell_type": "code",
   "execution_count": 5,
   "metadata": {
    "collapsed": true
   },
   "outputs": [],
   "source": [
    "def predict_sentiment(text):\n",
    "\n",
    "    text_features = neuron_model.transform(text)\n",
    "    prediced = {}\n",
    "    for no in range(len(text_features[0])):\n",
    "        for i,res in enumerate(text_features):\n",
    "            if no in prediced:\n",
    "                prediced[no].append(res[no])\n",
    "            else:\n",
    "                prediced[no] = []\n",
    "                prediced[no].append(res[no])\n",
    "    return prediced[2388][0]"
   ]
  },
  {
   "cell_type": "code",
   "execution_count": 31,
   "metadata": {},
   "outputs": [
    {
     "name": "stderr",
     "output_type": "stream",
     "text": [
      "CRITICAL:root:This is prediction, reading the trained sequence length\n",
      "CRITICAL:root:The maximum length is 30\n"
     ]
    },
    {
     "name": "stdout",
     "output_type": "stream",
     "text": [
      "                                         review_text  \\\n",
      "0  so glad to have found this vegetarian place th...   \n",
      "\n",
      "                                            Descript  \n",
      "0  [so glad to have found this vegetarian place t...  \n",
      "[['glad', 'found', 'vegetarian', 'place', 'serves', 'alcohol', 'justice', 'food', 'well'], ['darios', 'beautiful', 'classic', 'english', 'place', 'serves', 'delicious', 'italian', 'mexican', 'food'], ['must', 'visit']]\n",
      "3/3 [==============================] - 0s\n",
      "analysing 3 review_sentences from 1 reviews\n",
      "so glad to have found this vegetarian place that serves alcohol and does justice with food as well. (('food', 0.532), ('restuarant', 0.458))\n",
      "dario's is a beautiful classic english place that serves delicious italian and mexican food. (('food', 0.517), ('restuarant', 0.478))\n",
      "a must visit. (('food', 0.452), ('restuarant', 0.287))\n",
      "<class 'list'>\n",
      "5.505 seconds to transform 1 examples\n",
      "5.265 seconds to transform 1 examples\n",
      "2.648 seconds to transform 1 examples\n"
     ]
    }
   ],
   "source": [
    "text =['Visited this place last month. Loved there concept of thaliitalia. We were group of 6 and really like it a lot. The food was simply awesome. The deseert were the best. Tiramisuwas the best i have had anywhere. Really enjoyed it a lot will visit soon.']\n",
    "text = [\"So glad to have found this vegetarian place that serves alcohol and does justice with food as well. Dario's is a beautiful classic English place that serves delicious Italian and Mexican food. A must visit.\"]\n",
    "domain='restaurants'\n",
    "aspects_res = aspects_model.get_aspects(text,domain=domain)\n",
    "final_aspect_res=[]\n",
    "with open('sample_results.json','w') as fin:\n",
    "    for _,rev in enumerate(aspects_res):\n",
    "        sentences=[]\n",
    "        for sent in rev:\n",
    "            try:\n",
    "                senti = predict_sentiment([sent['review_sentence']])\n",
    "                sent['sentiment'] = round(float(senti),3)\n",
    "                sent['review_id'] = _\n",
    "                sentences.append(sent)\n",
    "            except Exception as e:\n",
    "                print (e)\n",
    "        simplejson.dump(sentences,fin)\n",
    "        fin.write('\\n')\n",
    "        final_aspect_res.append(sentences)"
   ]
  },
  {
   "cell_type": "code",
   "execution_count": 32,
   "metadata": {},
   "outputs": [
    {
     "data": {
      "text/plain": [
       "[{'category': (('food', 0.532), ('restuarant', 0.458)),\n",
       "  'review_id': 0,\n",
       "  'review_sentence': 'so glad to have found this vegetarian place that serves alcohol and does justice with food as well.',\n",
       "  'sentiment': 1.321},\n",
       " {'category': (('food', 0.517), ('restuarant', 0.478)),\n",
       "  'review_id': 0,\n",
       "  'review_sentence': \"dario's is a beautiful classic english place that serves delicious italian and mexican food.\",\n",
       "  'sentiment': 0.959},\n",
       " {'category': (('food', 0.452), ('restuarant', 0.287)),\n",
       "  'review_id': 0,\n",
       "  'review_sentence': 'a must visit.',\n",
       "  'sentiment': 0.796}]"
      ]
     },
     "execution_count": 32,
     "metadata": {},
     "output_type": "execute_result"
    }
   ],
   "source": [
    "import pandas as pd\n",
    "sum(final_aspect_res,[])"
   ]
  },
  {
   "cell_type": "code",
   "execution_count": 33,
   "metadata": {},
   "outputs": [
    {
     "data": {
      "text/html": [
       "<div>\n",
       "<style>\n",
       "    .dataframe thead tr:only-child th {\n",
       "        text-align: right;\n",
       "    }\n",
       "\n",
       "    .dataframe thead th {\n",
       "        text-align: left;\n",
       "    }\n",
       "\n",
       "    .dataframe tbody tr th {\n",
       "        vertical-align: top;\n",
       "    }\n",
       "</style>\n",
       "<table border=\"1\" class=\"dataframe\">\n",
       "  <thead>\n",
       "    <tr style=\"text-align: right;\">\n",
       "      <th></th>\n",
       "      <th>category</th>\n",
       "      <th>review_id</th>\n",
       "      <th>review_sentence</th>\n",
       "      <th>sentiment</th>\n",
       "    </tr>\n",
       "  </thead>\n",
       "  <tbody>\n",
       "    <tr>\n",
       "      <th>0</th>\n",
       "      <td>((food, 0.532), (restuarant, 0.458))</td>\n",
       "      <td>0</td>\n",
       "      <td>so glad to have found this vegetarian place th...</td>\n",
       "      <td>1.321</td>\n",
       "    </tr>\n",
       "    <tr>\n",
       "      <th>1</th>\n",
       "      <td>((food, 0.517), (restuarant, 0.478))</td>\n",
       "      <td>0</td>\n",
       "      <td>dario's is a beautiful classic english place t...</td>\n",
       "      <td>0.959</td>\n",
       "    </tr>\n",
       "    <tr>\n",
       "      <th>2</th>\n",
       "      <td>((food, 0.452), (restuarant, 0.287))</td>\n",
       "      <td>0</td>\n",
       "      <td>a must visit.</td>\n",
       "      <td>0.796</td>\n",
       "    </tr>\n",
       "  </tbody>\n",
       "</table>\n",
       "</div>"
      ],
      "text/plain": [
       "                               category  review_id  \\\n",
       "0  ((food, 0.532), (restuarant, 0.458))          0   \n",
       "1  ((food, 0.517), (restuarant, 0.478))          0   \n",
       "2  ((food, 0.452), (restuarant, 0.287))          0   \n",
       "\n",
       "                                     review_sentence  sentiment  \n",
       "0  so glad to have found this vegetarian place th...      1.321  \n",
       "1  dario's is a beautiful classic english place t...      0.959  \n",
       "2                                      a must visit.      0.796  "
      ]
     },
     "execution_count": 33,
     "metadata": {},
     "output_type": "execute_result"
    }
   ],
   "source": [
    "pd.DataFrame(sum(final_aspect_res,[]))"
   ]
  },
  {
   "cell_type": "code",
   "execution_count": null,
   "metadata": {
    "collapsed": true
   },
   "outputs": [],
   "source": []
  }
 ],
 "metadata": {
  "kernelspec": {
   "display_name": "Python 3",
   "language": "python",
   "name": "python3"
  },
  "language_info": {
   "codemirror_mode": {
    "name": "ipython",
    "version": 3
   },
   "file_extension": ".py",
   "mimetype": "text/x-python",
   "name": "python",
   "nbconvert_exporter": "python",
   "pygments_lexer": "ipython3",
   "version": "3.5.2"
  }
 },
 "nbformat": 4,
 "nbformat_minor": 2
}
